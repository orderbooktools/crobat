{
 "cells": [
  {
   "cell_type": "code",
   "execution_count": null,
   "metadata": {},
   "outputs": [],
   "source": [
    "# from the previous two examples we have shown how to\n",
    "# 1. collect data in csv/xlsx format using crobat.crobat\n",
    "# 2. collect raw messages and store them in postgresql\n",
    "\n",
    "# in this tutorial we will show how to retrieve raw data\n",
    "# from postgresql, and apply it to our instances of a lob\n"
   ]
  }
 ],
 "metadata": {
  "interpreter": {
   "hash": "31f2aee4e71d21fbe5cf8b01ff0e069b9275f58929596ceb00d14d90e3e16cd6"
  },
  "kernelspec": {
   "display_name": "Python 3.8.10 64-bit",
   "name": "python3"
  },
  "language_info": {
   "name": "python",
   "version": ""
  },
  "orig_nbformat": 4
 },
 "nbformat": 4,
 "nbformat_minor": 2
}